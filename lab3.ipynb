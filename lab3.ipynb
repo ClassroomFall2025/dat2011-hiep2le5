{
 "cells": [
  {
   "cell_type": "markdown",
   "id": "fdeff819",
   "metadata": {},
   "source": [
    "# Sinh Viên thực hiện Lab 3 ở Đây"
   ]
  },
  {
   "cell_type": "markdown",
   "id": "acc5d7dc",
   "metadata": {},
   "source": [
    "## Lab 3 - Bài 1"
   ]
  },
  {
   "cell_type": "code",
   "execution_count": null,
   "id": "001e0507",
   "metadata": {},
   "outputs": [],
   "source": [
    "day_so = []\n",
    "tong = 0\n",
    "dem = 0\n",
    "day_so_chia_het_cho_3 = []\n",
    "while True:\n",
    "    so = input(\"nhap so: \")\n",
    "    if so == \"e\":\n",
    "        print(\"thoat chuong trinh\")\n",
    "        break\n",
    "    else:\n",
    "        try:\n",
    "            phan_tu = int(so)\n",
    "            day_so.append(phan_tu)\n",
    "        except ValueError:\n",
    "            print(\"vui long nhap so hoac e de thoat\")\n",
    "print(day_so)\n",
    "#sawp xep day so tang dan \n",
    "day_so.sort()\n",
    "print(\"day so sap xep: \",day_so)\n",
    "#gia tri nho nhat\n",
    "print(\"gia tri nho nhat: \",day_so[0])\n",
    "print(\"gia tri lon nhat: \",day_so[-1])\n",
    "#sap xep so giam dan\n",
    "day_so.sort(reverse=True)\n",
    "print(day_so)\n",
    "print(\"gia tri nho nhat: \",day_so[-1])\n",
    "print(\"gia tri lon nhat: \",day_so[0])\n",
    "#duye danh sach \n",
    "for i in day_so:\n",
    "    print(i)\n",
    "#kiem tr tung phan tu \n",
    "    if i % 3 == 0:\n",
    "        day_so_chia_het_cho_3.append(i)\n",
    "        tong += i\n",
    "        dem += 1\n",
    "print(\"day so chia het cho 3: \",day_so_chia_het_cho_3)\n",
    "print(f\"co {dem} so chia het cho 3\")\n",
    "if dem != 0:\n",
    "    print(\"trung binh cong cac so chia het cho 3: \",tong/dem)\n",
    "else:\n",
    "    print(\"khong co so nao chia het cho 3\")\n",
    "    print(\"cac so chia het cho 3: \",day_so_chia_het_cho_3)\n"
   ]
  },
  {
   "cell_type": "markdown",
   "id": "c0835310",
   "metadata": {},
   "source": [
    "## Lab 3 - Bài 2"
   ]
  },
  {
   "cell_type": "code",
   "execution_count": null,
   "id": "fa9cb39f",
   "metadata": {},
   "outputs": [],
   "source": [
    "sinh_vien = {\n",
    "    \"ho ten\": \"\",\n",
    "    \"diem\": \" \"\n",
    "}\n",
    "#nhap thong tin sinh vien \n",
    "ho_ten = input(\"nhap ho ten sinh vien: \")\n",
    "diem = float(input(\"nhap diem sinh vien: \"))\n",
    "sinh_vien [\"ho ten\"] = ho_ten\n",
    "sinh_vien [\"diem\"] = diem\n",
    "if diem >=9 and diem <=10:\n",
    "    hoc_luc = \"xuat sac\"\n",
    "elif diem >=8 and diem <9:\n",
    "    hoc_luc = \"gioi\"\n",
    "elif diem >=7 and diem <8:\n",
    "    hoc_luc = \"kha\"\n",
    "elif diem >=5 and diem <7:\n",
    "    hoc_luc = \"trung binh\"\n",
    "elif diem >=0 and diem <5:\n",
    "    hoc_luc = \"yeu\"\n",
    "else:\n",
    "    hoc_luc = \" chua dat\"\n",
    "sinh_vien [\"hoc luc\"] = hoc_luc\n",
    "print(sinh_vien)\n",
    "#ds sinh vien \n",
    "ds_sinh_vien = []\n",
    "sinh_vien = {}\n",
    "while True:\n",
    "    ho_ten = input(\"nhap ho ten sinh vien: \")\n",
    "    if ho_ten.lower() == \"e\":\n",
    "        break\n",
    "    else:\n",
    "        diem = float(input(\"nhap diem sinh vien: \"))\n",
    "        sinh_vien = {\n",
    "            \"ho ten\": ho_ten,\n",
    "            \"diem\": diem\n",
    "        }\n",
    "        if diem >=9 and diem <=10:\n",
    "            hoc_luc = \"xuat sac\"\n",
    "        elif diem >=8 and diem <9:\n",
    "            hoc_luc = \"gioi\"\n",
    "        elif diem >=7 and diem <8:\n",
    "            hoc_luc = \"kha\"\n",
    "        elif diem >=5 and diem <7:\n",
    "            hoc_luc = \"trung binh\"\n",
    "        elif diem >=0 and diem <5:\n",
    "            hoc_luc = \"yeu\"\n",
    "        else:\n",
    "            hoc_luc = \" chua dat\"\n",
    "        sinh_vien[\"ho ten\"] = ho_ten\n",
    "        sinh_vien[\"diem\"] = diem\n",
    "        sinh_vien [\"hoc luc\"] = hoc_luc\n",
    "        ds_sinh_vien.append(sinh_vien)\n",
    "\n",
    "\n"
   ]
  },
  {
   "cell_type": "markdown",
   "id": "0f2483fe",
   "metadata": {},
   "source": [
    "## Lab 3 - Bài 3"
   ]
  },
  {
   "cell_type": "code",
   "execution_count": null,
   "id": "7034990b",
   "metadata": {},
   "outputs": [],
   "source": [
    "# Code lab 3  bài 3 ở đây"
   ]
  },
  {
   "cell_type": "markdown",
   "id": "d36ea3d3",
   "metadata": {},
   "source": [
    "## Lab 3 - Bài 4"
   ]
  },
  {
   "cell_type": "code",
   "execution_count": null,
   "id": "4c707ec1",
   "metadata": {},
   "outputs": [],
   "source": [
    "\n",
    "x = int(input( \"nhập bảng cửu chương b muốn in : \"))\n",
    "print(\"Bảng cửu chương\", x,)\n",
    "for i in range(1,x+1):\n",
    "    print(\"bang cuu chuong\",i)\n",
    "    for j in range(1,11):\n",
    "        print(\"%d x %d = %d\" % (i,j,i*j))\n",
    "    print()\n",
    "      \n",
    "        \n",
    "    \n",
    "        "
   ]
  },
  {
   "cell_type": "markdown",
   "id": "e2b41d4a",
   "metadata": {},
   "source": [
    "## Lab 3 - Bài 5: bài tập làm thêm"
   ]
  },
  {
   "cell_type": "code",
   "execution_count": null,
   "id": "0e0172f7",
   "metadata": {},
   "outputs": [
    {
     "name": "stdout",
     "output_type": "stream",
     "text": [
      "can bac hai\n"
     ]
    }
   ],
   "source": [
    "#maytinh\n",
    "lua_chon = input(\"Chon phep tinh (1/2/3/4/5/6/7/8/9/10): \")\n",
    "\n",
    "match lua_chon:\n",
    "    case \"1\":\n",
    "        print (\"phep tinh co ban\")\n",
    "    case \"2\":\n",
    "        print(\"luy thua\")\n",
    "    case \"3\":\n",
    "        print(\"can bac hai\")        \n",
    "    case \"4\":\n",
    "        print(\"logarit\")\n",
    "    case \"5\":\n",
    "        print(\"giai phuong trinh bac nhat\")\n",
    "    case \"6\":\n",
    "        print(\"giai phuong trinh bac hai\")\n",
    "    case \"7\":\n",
    "        print(\"lich su\")\n",
    "    case \"8\":\n",
    "        print(\"ham luong giac\")\n",
    "    case \"9\":\n",
    "        print(\"thoi gian\")\n",
    "        if lua_chon == 0:\n",
    "           print(\"thoat\")\n",
    "    \n",
    "\n",
    "      "
   ]
  }
 ],
 "metadata": {
  "kernelspec": {
   "display_name": "Python 3",
   "language": "python",
   "name": "python3"
  },
  "language_info": {
   "codemirror_mode": {
    "name": "ipython",
    "version": 3
   },
   "file_extension": ".py",
   "mimetype": "text/x-python",
   "name": "python",
   "nbconvert_exporter": "python",
   "pygments_lexer": "ipython3",
   "version": "3.13.7"
  }
 },
 "nbformat": 4,
 "nbformat_minor": 5
}
