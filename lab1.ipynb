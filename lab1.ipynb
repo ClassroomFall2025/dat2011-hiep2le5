{
 "cells": [
  {
   "cell_type": "markdown",
   "id": "fdeff819",
   "metadata": {},
   "source": [
    "# Sinh Viên thực hiện Lab 1 ở Đây"
   ]
  },
  {
   "cell_type": "markdown",
   "id": "acc5d7dc",
   "metadata": {},
   "source": [
    "## Lab 1 - Bài 1"
   ]
  },
  {
   "cell_type": "code",
   "execution_count": 1,
   "id": "001e0507",
   "metadata": {},
   "outputs": [
    {
     "name": "stdout",
     "output_type": "stream",
     "text": [
      "xin chao\n",
      "toi ten la nguyen hoang hiep\n",
      "toi den tu binh phuoc\n"
     ]
    }
   ],
   "source": [
    "print(\"xin chao\")\n",
    "print(\"toi ten la nguyen hoang hiep\")\n",
    "print(\"toi den tu binh phuoc\")"
   ]
  },
  {
   "cell_type": "markdown",
   "id": "c0835310",
   "metadata": {},
   "source": [
    "## Lab 1 - Bài 2"
   ]
  },
  {
   "cell_type": "code",
   "execution_count": null,
   "id": "0d4ee811",
   "metadata": {},
   "outputs": [],
   "source": []
  },
  {
   "cell_type": "code",
   "execution_count": 18,
   "id": "fa9cb39f",
   "metadata": {},
   "outputs": [
    {
     "name": "stdout",
     "output_type": "stream",
     "text": [
      "chu vi cua hinh chu nhat la : 12.0\n",
      "dien tich hinh chu nhat la: 9.0\n"
     ]
    }
   ],
   "source": [
    "dai = float(input(\"nhap chiu dai hinh chu nhat:\"))\n",
    "rong = float(input(\"nhap chiu rong hinh chu nhat:\"))\n",
    "\n",
    "chu_vi = (dai + rong ) *2\n",
    "dien_tich = dai * rong \n",
    "\n",
    "print(\"chu vi cua hinh chu nhat la :\",chu_vi)\n",
    "print(\"dien tich hinh chu nhat la:\",dien_tich)\n"
   ]
  },
  {
   "cell_type": "markdown",
   "id": "0f2483fe",
   "metadata": {},
   "source": [
    "## Lab 1 - Bài 3"
   ]
  },
  {
   "cell_type": "code",
   "execution_count": 2,
   "id": "7034990b",
   "metadata": {},
   "outputs": [
    {
     "name": "stdout",
     "output_type": "stream",
     "text": [
      "\n",
      "Sống không giận, không hờn không oán trách\n",
      "Sống mỉm cười, với thử thách chông gai\n",
      "Sống vươn lên, theo kịp ánh ban mai\n",
      "Sống chan hòa, với những người chung sống.\n",
      "\n",
      "Sống là động, nhưng lòng luôn bất động\n",
      "Sống là thương, nhưng lòng chẳng vấn vương\n",
      "Sống yên vui, danh lợi mãi coi thường\n",
      "Tâm bất biến, giữa dòng đời vạn biến.\n",
      "\n"
     ]
    }
   ],
   "source": [
    "\n",
    "tho = \"\"\"\n",
    "Sống không giận, không hờn không oán trách\n",
    "Sống mỉm cười, với thử thách chông gai\n",
    "Sống vươn lên, theo kịp ánh ban mai\n",
    "Sống chan hòa, với những người chung sống.\n",
    "\n",
    "Sống là động, nhưng lòng luôn bất động\n",
    "Sống là thương, nhưng lòng chẳng vấn vương\n",
    "Sống yên vui, danh lợi mãi coi thường\n",
    "Tâm bất biến, giữa dòng đời vạn biến.\n",
    "\"\"\"\n",
    "\n",
    "print(tho)"
   ]
  },
  {
   "cell_type": "markdown",
   "id": "d36ea3d3",
   "metadata": {},
   "source": [
    "## Lab 1 - Bài 4"
   ]
  },
  {
   "cell_type": "code",
   "execution_count": null,
   "id": "4c707ec1",
   "metadata": {},
   "outputs": [],
   "source": [
    "import math \n",
    "\n",
    "a = float(input(\"nhap he so a = \"))\n",
    "b = float(input(\"nhap he so b = \"))\n",
    "c= float(input(\"nhap he so c = \"))\n",
    "\n",
    "if delta >= 0:\n",
    "    delta = b**2-4*a*c\n"
   ]
  },
  {
   "cell_type": "markdown",
   "id": "e2b41d4a",
   "metadata": {},
   "source": [
    "## Lab 1 - Bài 5: bài tập làm thêm"
   ]
  },
  {
   "cell_type": "code",
   "execution_count": 9,
   "id": "0e0172f7",
   "metadata": {},
   "outputs": [
    {
     "name": "stdout",
     "output_type": "stream",
     "text": [
      "bai_tho\n",
      "\n",
      "Kiếp con người mỏng manh như là gió\n",
      "Sống trên đời có được mấy lần vui\n",
      "Sao phải đau mà không thể mỉm cười\n",
      "Gắng buông nỗi ngậm ngùi nơi quá khứ\n",
      "\n",
      "Nếu có thể sao ta không làm thử\n",
      "Để tâm hồn khắc hai chữ bình an\n",
      "Cho đôi chân bước thanh thản nhẹ nhàng\n",
      "Dù hướng đời có muôn ngàn đá sỏi \n",
      "Dẫu cuộc sống có muôn vàn bão giông\n",
      "Thì trong lòng vẫn thấy nhẹ nhàng thôi\n",
      "\n",
      "index của bai tho là: 6\n"
     ]
    }
   ],
   "source": [
    "print(\"bai_tho\")\n",
    "bai_tho='''\n",
    "Kiếp con người mỏng manh như là gió\n",
    "Sống trên đời có được mấy lần vui\n",
    "Sao phải đau mà không thể mỉm cười\n",
    "Gắng buông nỗi ngậm ngùi nơi quá khứ\n",
    "\n",
    "Nếu có thể sao ta không làm thử\n",
    "Để tâm hồn khắc hai chữ bình an\n",
    "Cho đôi chân bước thanh thản nhẹ nhàng\n",
    "Dù hướng đời có muôn ngàn đá sỏi \n",
    "Dẫu cuộc sống có muôn vàn bão giông\n",
    "Thì trong lòng vẫn thấy nhẹ nhàng thôi\n",
    "'''\n",
    "print(bai_tho)  \n",
    "index = bai_tho.find(\"con người\")\n",
    "print(\"index của bai tho là:\",index)\n"
   ]
  }
 ],
 "metadata": {
  "kernelspec": {
   "display_name": "Python 3",
   "language": "python",
   "name": "python3"
  },
  "language_info": {
   "codemirror_mode": {
    "name": "ipython",
    "version": 3
   },
   "file_extension": ".py",
   "mimetype": "text/x-python",
   "name": "python",
   "nbconvert_exporter": "python",
   "pygments_lexer": "ipython3",
   "version": "3.13.7"
  }
 },
 "nbformat": 4,
 "nbformat_minor": 5
}
