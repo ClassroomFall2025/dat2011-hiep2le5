{
 "cells": [
  {
   "cell_type": "markdown",
   "id": "fdeff819",
   "metadata": {},
   "source": [
    "# Sinh Viên thực hiện Lab 2 ở Đây"
   ]
  },
  {
   "cell_type": "markdown",
   "id": "acc5d7dc",
   "metadata": {},
   "source": [
    "## Lab 2 - Bài 1"
   ]
  },
  {
   "cell_type": "code",
   "execution_count": 1,
   "id": "001e0507",
   "metadata": {},
   "outputs": [
    {
     "name": "stdout",
     "output_type": "stream",
     "text": [
      "bai_tho\n",
      "\n",
      "Kiếp con người mỏng manh như là gió\n",
      "Sống trên đời có được mấy lần vui\n",
      "Sao phải đau mà không thể mỉm cười\n",
      "Gắng buông nỗi ngậm ngùi nơi quá khứ\n",
      "\n",
      "Nếu có thể sao ta không làm thử\n",
      "Để tâm hồn khắc hai chữ bình an\n",
      "Cho đôi chân bước thanh thản nhẹ nhàng\n",
      "Dù hướng đời có muôn ngàn đá sỏi \n",
      "Dẫu cuộc sống có muôn vàn bão giông\n",
      "Thì trong lòng vẫn thấy nhẹ nhàng thôi\n",
      "\n",
      "index của bai tho là: 6\n"
     ]
    }
   ],
   "source": [
    "print(\"bai_tho\")\n",
    "bai_tho='''\n",
    "Kiếp con người mỏng manh như là gió\n",
    "Sống trên đời có được mấy lần vui\n",
    "Sao phải đau mà không thể mỉm cười\n",
    "Gắng buông nỗi ngậm ngùi nơi quá khứ\n",
    "\n",
    "Nếu có thể sao ta không làm thử\n",
    "Để tâm hồn khắc hai chữ bình an\n",
    "Cho đôi chân bước thanh thản nhẹ nhàng\n",
    "Dù hướng đời có muôn ngàn đá sỏi \n",
    "Dẫu cuộc sống có muôn vàn bão giông\n",
    "Thì trong lòng vẫn thấy nhẹ nhàng thôi\n",
    "'''\n",
    "print(bai_tho)  \n",
    "index = bai_tho.find(\"con người\")\n",
    "print(\"index của bai tho là:\",index)\n"
   ]
  },
  {
   "cell_type": "markdown",
   "id": "c0835310",
   "metadata": {},
   "source": [
    "## Lab 2 - Bài 2"
   ]
  },
  {
   "cell_type": "code",
   "execution_count": 7,
   "id": "fa9cb39f",
   "metadata": {},
   "outputs": [
    {
     "name": "stdout",
     "output_type": "stream",
     "text": [
      "trich xuat : python\n"
     ]
    }
   ],
   "source": [
    "text = \"hoc_lap_trinh_python\"\n",
    "text1 = \"toi cung muon hoc python\"\n",
    "index1 = text.find(\"python\")\n",
    "len_python = len(\"python\")\n",
    "index2 = index1 + len_python\n",
    "trich_xuat_python = text[index1:index2]\n",
    "print(\"trich xuat :\",trich_xuat_python)"
   ]
  },
  {
   "cell_type": "markdown",
   "id": "0f2483fe",
   "metadata": {},
   "source": [
    "## Lab 2 - Bài 3"
   ]
  },
  {
   "cell_type": "code",
   "execution_count": 14,
   "id": "7034990b",
   "metadata": {},
   "outputs": [
    {
     "name": "stdout",
     "output_type": "stream",
     "text": [
      "hoc_lap_trinh_python\n",
      "toi cung muon hoc python\n"
     ]
    }
   ],
   "source": [
    "text = \"hoc_lap_trinh_python\"\n",
    "text1 = \"toi cung muon hoc python\"\n",
    "text2 = text + \"\\n\" +text1\n",
    "print(text2)"
   ]
  },
  {
   "cell_type": "markdown",
   "id": "d36ea3d3",
   "metadata": {},
   "source": [
    "## Lab 2 - Bài 4"
   ]
  },
  {
   "cell_type": "code",
   "execution_count": 2,
   "id": "4c707ec1",
   "metadata": {},
   "outputs": [
    {
     "name": "stdout",
     "output_type": "stream",
     "text": [
      "kết quả là : 26912.0\n"
     ]
    }
   ],
   "source": [
    "index1 = float(input(\"nhập số 1 : \"))\n",
    "index2 = float(input(\"nhập số 2 : \"))\n",
    "phep_tinh = input(\"nhập phép tính (+,-,*,/) : \")\n",
    "if phep_tinh == \"+\":\n",
    "    réult = index1 + index2\n",
    "    print(\"kết quả là :\",index1 + index2)\n",
    "elif phep_tinh == \"-\":\n",
    "    réult = index1 - index2\n",
    "    print(\"kết quả là :\",index1 + index2)\n"
   ]
  },
  {
   "cell_type": "markdown",
   "id": "e2b41d4a",
   "metadata": {},
   "source": [
    "## Lab 2 - Bài 5: bài tập làm thêm"
   ]
  },
  {
   "cell_type": "code",
   "execution_count": 10,
   "id": "0e0172f7",
   "metadata": {},
   "outputs": [
    {
     "name": "stdout",
     "output_type": "stream",
     "text": [
      "10\n",
      "8\n",
      "7\n",
      "5\n",
      "4\n",
      "2\n",
      "1\n"
     ]
    }
   ],
   "source": [
    "x = 10\n",
    "while x >=0:\n",
    "    if x % 3 == 0:\n",
    "        x -= 1\n",
    "        continue\n",
    "    print(x)\n",
    "    x -= 1"
   ]
  }
 ],
 "metadata": {
  "kernelspec": {
   "display_name": "Python 3",
   "language": "python",
   "name": "python3"
  },
  "language_info": {
   "codemirror_mode": {
    "name": "ipython",
    "version": 3
   },
   "file_extension": ".py",
   "mimetype": "text/x-python",
   "name": "python",
   "nbconvert_exporter": "python",
   "pygments_lexer": "ipython3",
   "version": "3.13.7"
  }
 },
 "nbformat": 4,
 "nbformat_minor": 5
}
